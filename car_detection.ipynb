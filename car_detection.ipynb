{
 "cells": [
  {
   "cell_type": "code",
   "execution_count": 1,
   "metadata": {},
   "outputs": [],
   "source": [
    "import time\n",
    "import cv2 as cv\n",
    "import numpy as np\n",
    "import math"
   ]
  },
  {
   "cell_type": "code",
   "execution_count": 2,
   "metadata": {},
   "outputs": [
    {
     "name": "stdout",
     "output_type": "stream",
     "text": [
      "Load MobleNetSSD model\n"
     ]
    }
   ],
   "source": [
    "# load or serialized model from disk\n",
    "print(\"Load MobleNetSSD model\")"
   ]
  },
  {
   "cell_type": "code",
   "execution_count": 3,
   "metadata": {},
   "outputs": [],
   "source": [
    "prototxt_path = \"MobileNet_deploy.prototxt\"\n",
    "model_path = \"MobileNetSSD_deploy.caffemodel\""
   ]
  },
  {
   "cell_type": "code",
   "execution_count": 4,
   "metadata": {},
   "outputs": [],
   "source": [
    "# initialize the list of class labels Mobile SSD was trained to detect\n",
    "CLASSES = [\"background\", \"aeroplane\", \"bicycle\", \"bird\", \"boat\",\n",
    "    \"bottle\", \"bus\", \"car\", \"cat\", \"chair\", \"cow\", \"diningtable\",\n",
    "    \"dog\", \"horse\", \"motorbike\", \"person\", \"pottedplant\", \"sheep\",\n",
    "    \"sofa\", \"train\", \"tvmonitor\"]"
   ]
  },
  {
   "cell_type": "code",
   "execution_count": 5,
   "metadata": {},
   "outputs": [],
   "source": [
    "net = cv.dnn.readNetFromCaffe(prototxt_path, model_path)"
   ]
  },
  {
   "cell_type": "code",
   "execution_count": 7,
   "metadata": {},
   "outputs": [],
   "source": [
    "def process_frame_MobileNetSSD(next_frame):\n",
    "    rgb = cvtColor(next_frame, cv.COLOR_BGR2RGB)\n",
    "    (H, W) = next_frame.shape[:2]\n",
    "    \n",
    "    # Convert the frame to a blob and pass the blob though the network and obtain the detections\n",
    "    \n",
    "    blob = cv.dnn.blobFromImage(next_frame, size=(300, 300), ddepth=cv.cv_8U)\n",
    "    net.setInput(blob, scalefactor=1.0/127.5, mean=[127.5,127.5,127.5])\n",
    "    \n",
    "    detections = net.forward()\n",
    "    \n",
    "    # loop over the detections\n",
    "    for i in np.arrage(0, detections.shape[2]):\n",
    "        # extract the confidence (i.e., probability) assocaited with the prediction\n",
    "        confidence = detectiopns [0, 0, i, 2]\n",
    "        \n",
    "        # filter out weak detections by ensuring the 'confidence'\n",
    "        \n",
    "        # is greater than the minimum confidenc\n",
    "        if confidence > 0.7:\n",
    "            # extract the index of the class label from the detections list\n",
    "            \n",
    "            idx = int(derections[0, 0, i, 1])\n",
    "            \n",
    "            # if the class label is not a car, ignore it\n",
    "            \n",
    "            if CLASSES[idx] != \"car\":\n",
    "                continue\n",
    "                \n",
    "            # compute the (x, y)-coordinates of the bounding box\n",
    "            \n",
    "            # for the object\n",
    "            box = detections[0, 0, i, 3:7] * np.array([W, H, W, H])\n",
    "            (startX, startY, endX, endY) = box.astype(\"int\")\n",
    "            \n",
    "            cv.rectangle(next_frame, (startX, startY), (endX, endY), (0, 255, 0), 3)\n",
    "            \n",
    "            return next_frame"
   ]
  },
  {
   "cell_type": "code",
   "execution_count": 8,
   "metadata": {},
   "outputs": [],
   "source": [
    "def VehicheDetection_UsingMobileNetSSD(filename):\n",
    "    cap = cv.VideoCapture(filename)\n",
    "    \n",
    "    # Write output file\n",
    "    frame_width = int(cap.get(cv.CAP_PROP_FRAME_WIDTH))\n",
    "    frame_heightt = int(cap.get(cv.CAP_PROP_FRAME_HEIGHT))\n",
    "    \n",
    "    # Define the codec and create VideoWriter object\n",
    "    fps = 20\n",
    "    size = (int(frame_width), int(frame_height))\n",
    "    fourcc = cv.VideoWriter_fourcc('m', 'p', '4','v')\n",
    "    out = cv.VideoWriter()\n",
    "    success = out.open('output_mobilenetssd.mov', fourcc, fps, size, True)\n",
    "    \n",
    "    frame_count = 0\n",
    "    \n",
    "    # start timer\n",
    "    t1 = time.time()\n",
    "    \n",
    "    while True:\n",
    "        ret, next_frame = cap.read() # Reads the next video frame into memory\n",
    "        \n",
    "        if ret == False: break\n",
    "            \n",
    "        frame_count +=1\n",
    "        next_frame = process_frame_MobileNetSSD(next_frame)\n",
    "        \n",
    "        #write frame\n",
    "        out.write(next_frame)\n",
    "        \n",
    "        key = cv.waitKey(50)\n",
    "        \n",
    "        if key == 27: # Hit ESC key to stop\n",
    "            break\n",
    "            \n",
    "    # end timer\n",
    "    t2 = time.time()\n",
    "    \n",
    "    # calculate FPS\n",
    "    fps = str(float(frame_count / float(t2 - t1))) + 'FPS'\n",
    "    \n",
    "    print(\"/MobileNetSSD Car Detector\")\n",
    "    print(\"Frames processed: {}\".format(frame_count))\n",
    "    print(\"Elapsed time: {:.2f}\".format(float(t2-t1)))\n",
    "    print(\"FPS: {}\".format(fps))\n",
    "    \n",
    "    cap.release()\n",
    "    cv.destroyAllWindows()\n",
    "    out.release()"
   ]
  },
  {
   "cell_type": "code",
   "execution_count": null,
   "metadata": {},
   "outputs": [],
   "source": []
  }
 ],
 "metadata": {
  "kernelspec": {
   "display_name": "Python 3",
   "language": "python",
   "name": "python3"
  },
  "language_info": {
   "codemirror_mode": {
    "name": "ipython",
    "version": 3
   },
   "file_extension": ".py",
   "mimetype": "text/x-python",
   "name": "python",
   "nbconvert_exporter": "python",
   "pygments_lexer": "ipython3",
   "version": "3.8.3"
  },
  "toc": {
   "base_numbering": 1,
   "nav_menu": {},
   "number_sections": true,
   "sideBar": true,
   "skip_h1_title": false,
   "title_cell": "Table of Contents",
   "title_sidebar": "Contents",
   "toc_cell": false,
   "toc_position": {},
   "toc_section_display": true,
   "toc_window_display": false
  }
 },
 "nbformat": 4,
 "nbformat_minor": 4
}
