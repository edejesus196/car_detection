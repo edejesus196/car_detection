{
 "cells": [
  {
   "cell_type": "code",
   "execution_count": 9,
   "metadata": {},
   "outputs": [],
   "source": [
    "import time\n",
    "import cv2 as cv\n",
    "import numpy as np\n",
    "import math"
   ]
  },
  {
   "cell_type": "code",
   "execution_count": 10,
   "metadata": {},
   "outputs": [
    {
     "name": "stdout",
     "output_type": "stream",
     "text": [
      "Load MobleNetSSD model\n"
     ]
    }
   ],
   "source": [
    "# load or serialized model from disk\n",
    "print(\"Load MobleNetSSD model\")"
   ]
  },
  {
   "cell_type": "code",
   "execution_count": 45,
   "metadata": {},
   "outputs": [],
   "source": [
    "prototxt_path = \"MobileNet_deploy.prototxt\"\n",
    "model_path = \"MobileNetSSD_deploy.caffemodel\""
   ]
  },
  {
   "cell_type": "code",
   "execution_count": 46,
   "metadata": {},
   "outputs": [],
   "source": [
    "# initialize the list of class labels Mobile SSD was trained to detect\n",
    "CLASSES = [\"background\", \"aeroplane\", \"bicycle\", \"bird\", \"boat\",\n",
    "    \"bottle\", \"bus\", \"car\", \"cat\", \"chair\", \"cow\", \"diningtable\",\n",
    "    \"dog\", \"horse\", \"motorbike\", \"person\", \"pottedplant\", \"sheep\",\n",
    "    \"sofa\", \"train\", \"tvmonitor\"]"
   ]
  },
  {
   "cell_type": "code",
   "execution_count": 47,
   "metadata": {},
   "outputs": [],
   "source": [
    "net = cv.dnn.readNetFromCaffe(prototxt_path, model_path)"
   ]
  },
  {
   "cell_type": "code",
   "execution_count": 33,
   "metadata": {},
   "outputs": [],
   "source": [
    "def process_frame_MobileNetSSD(next_frame):\n",
    "    rgb = cv.cvtColor(next_frame, cv.COLOR_BGR2RGB)\n",
    "    (H, W) = next_frame.shape[:2]\n",
    "\n",
    "    # convert the frame to a blob and pass the blob through the\n",
    "    # network and obtain the detections\n",
    "    blob = cv.dnn.blobFromImage(next_frame, size=(300, 300), ddepth=cv.CV_8U)\n",
    "    net.setInput(blob, scalefactor=1.0/127.5, mean=[127.5, 127.5, 127.5])\n",
    "    detections = net.forward()\n",
    "\n",
    "    # loop over the detections\n",
    "    for i in np.arange(0, detections.shape[2]):\n",
    "        # extract the confidence (i.e., probability) associated\n",
    "        # with the prediction\n",
    "        confidence = detections[0, 0, i, 2]\n",
    "        # filter out weak detections by ensuring the `confidence`\n",
    "        # is greater than the minimum confidence\n",
    "        if confidence > 0.7:\n",
    "            # extract the index of the class label from the\n",
    "            # detections list\n",
    "            idx = int(detections[0, 0, i, 1])\n",
    "            # if the class label is not a car, ignore it\n",
    "            if CLASSES[idx] != \"car\":\n",
    "                continue\n",
    "            # compute the (x, y)-coordinates of the bounding box\n",
    "            # for the object\n",
    "            box = detections[0, 0, i, 3:7] * np.array([W, H, W, H])\n",
    "            (startX, startY, endX, endY) = box.astype(\"int\")\n",
    "            \n",
    "            cv.rectangle(next_frame, (startX, startY), (endX, endY), (0, 255, 0), 3)\n",
    "\n",
    "    return next_frame"
   ]
  },
  {
   "cell_type": "code",
   "execution_count": 34,
   "metadata": {},
   "outputs": [],
   "source": [
    "def VehicheDetection_UsingMobileNetSSD(filename):\n",
    "    cap = cv.VideoCapture(filename)\n",
    "\n",
    "    # Write output file\n",
    "    frame_width = int(cap.get(cv.CAP_PROP_FRAME_WIDTH))\n",
    "    frame_height = int(cap.get(cv.CAP_PROP_FRAME_HEIGHT))\n",
    "\n",
    "    # Define the codec and create VideoWriter object\n",
    "    fps = 20\n",
    "    size = (int(frame_width),int(frame_height))\n",
    "    fourcc = cv.VideoWriter_fourcc('m','p','4','v')\n",
    "    out = cv.VideoWriter()\n",
    "    success = out.open('output_mobilenetssd.mov', fourcc, fps, size, True)\n",
    "\n",
    "    frame_count = 0\n",
    "\n",
    "    # start timer\n",
    "    t1 = time.time()\n",
    "\n",
    "    while True:\n",
    "        ret, next_frame = cap.read() # Reads the next video frame into memory\n",
    "        \n",
    "        if ret == False: break\n",
    "\n",
    "        frame_count += 1\n",
    "        next_frame = process_frame_MobileNetSSD(next_frame)\n",
    "        \n",
    "        # write frame\n",
    "        out.write(next_frame)\n",
    "        \n",
    "        key = cv.waitKey(50)\n",
    "        \n",
    "        if key == 27: # Hit ESC key to stop\n",
    "            break\n",
    "    \n",
    "    \n",
    "    # end timer\n",
    "    t2 = time.time()\n",
    "\n",
    "    # calculate FPS\n",
    "    fps = str( float(frame_count / float(t2 - t1))) + ' FPS'\n",
    "\n",
    "    print(\"/MobileNetSSD Car Detector\")\n",
    "    print(\"Frames processed: {}\".format(frame_count))\n",
    "    print(\"Elapsed time: {:.2f}\".format(float(t2 - t1)))\n",
    "    print(\"FPS: {}\".format(fps))\n",
    "\n",
    "    cap.release()\n",
    "    cv.destroyAllWindows()\n",
    "    out.release()"
   ]
  },
  {
   "cell_type": "code",
   "execution_count": 37,
   "metadata": {},
   "outputs": [],
   "source": [
    "video_path = \"videos/Exclusive_ Buses in Berlin, Germany.mp4\""
   ]
  },
  {
   "cell_type": "code",
   "execution_count": 38,
   "metadata": {},
   "outputs": [
    {
     "ename": "error",
     "evalue": "OpenCV(4.5.1) C:\\Users\\appveyor\\AppData\\Local\\Temp\\1\\pip-req-build-i1s8y2i1\\opencv\\modules\\dnn\\src\\layers\\batch_norm_layer.cpp:47: error: (-215:Assertion failed) blobs.size() >= 2 in function 'cv::dnn::BatchNormLayerImpl::BatchNormLayerImpl'\n",
     "output_type": "error",
     "traceback": [
      "\u001b[1;31m---------------------------------------------------------------------------\u001b[0m",
      "\u001b[1;31merror\u001b[0m                                     Traceback (most recent call last)",
      "\u001b[1;32m<ipython-input-38-3520aee85c32>\u001b[0m in \u001b[0;36m<module>\u001b[1;34m\u001b[0m\n\u001b[1;32m----> 1\u001b[1;33m \u001b[0mVehicheDetection_UsingMobileNetSSD\u001b[0m\u001b[1;33m(\u001b[0m\u001b[0mvideo_path\u001b[0m\u001b[1;33m)\u001b[0m\u001b[1;33m\u001b[0m\u001b[1;33m\u001b[0m\u001b[0m\n\u001b[0m",
      "\u001b[1;32m<ipython-input-34-b177f66869af>\u001b[0m in \u001b[0;36mVehicheDetection_UsingMobileNetSSD\u001b[1;34m(filename)\u001b[0m\n\u001b[0;32m     24\u001b[0m \u001b[1;33m\u001b[0m\u001b[0m\n\u001b[0;32m     25\u001b[0m         \u001b[0mframe_count\u001b[0m \u001b[1;33m+=\u001b[0m \u001b[1;36m1\u001b[0m\u001b[1;33m\u001b[0m\u001b[1;33m\u001b[0m\u001b[0m\n\u001b[1;32m---> 26\u001b[1;33m         \u001b[0mnext_frame\u001b[0m \u001b[1;33m=\u001b[0m \u001b[0mprocess_frame_MobileNetSSD\u001b[0m\u001b[1;33m(\u001b[0m\u001b[0mnext_frame\u001b[0m\u001b[1;33m)\u001b[0m\u001b[1;33m\u001b[0m\u001b[1;33m\u001b[0m\u001b[0m\n\u001b[0m\u001b[0;32m     27\u001b[0m \u001b[1;33m\u001b[0m\u001b[0m\n\u001b[0;32m     28\u001b[0m         \u001b[1;31m# write frame\u001b[0m\u001b[1;33m\u001b[0m\u001b[1;33m\u001b[0m\u001b[1;33m\u001b[0m\u001b[0m\n",
      "\u001b[1;32m<ipython-input-33-676352593585>\u001b[0m in \u001b[0;36mprocess_frame_MobileNetSSD\u001b[1;34m(next_frame)\u001b[0m\n\u001b[0;32m      7\u001b[0m     \u001b[0mblob\u001b[0m \u001b[1;33m=\u001b[0m \u001b[0mcv\u001b[0m\u001b[1;33m.\u001b[0m\u001b[0mdnn\u001b[0m\u001b[1;33m.\u001b[0m\u001b[0mblobFromImage\u001b[0m\u001b[1;33m(\u001b[0m\u001b[0mnext_frame\u001b[0m\u001b[1;33m,\u001b[0m \u001b[0msize\u001b[0m\u001b[1;33m=\u001b[0m\u001b[1;33m(\u001b[0m\u001b[1;36m300\u001b[0m\u001b[1;33m,\u001b[0m \u001b[1;36m300\u001b[0m\u001b[1;33m)\u001b[0m\u001b[1;33m,\u001b[0m \u001b[0mddepth\u001b[0m\u001b[1;33m=\u001b[0m\u001b[0mcv\u001b[0m\u001b[1;33m.\u001b[0m\u001b[0mCV_8U\u001b[0m\u001b[1;33m)\u001b[0m\u001b[1;33m\u001b[0m\u001b[1;33m\u001b[0m\u001b[0m\n\u001b[0;32m      8\u001b[0m     \u001b[0mnet\u001b[0m\u001b[1;33m.\u001b[0m\u001b[0msetInput\u001b[0m\u001b[1;33m(\u001b[0m\u001b[0mblob\u001b[0m\u001b[1;33m,\u001b[0m \u001b[0mscalefactor\u001b[0m\u001b[1;33m=\u001b[0m\u001b[1;36m1.0\u001b[0m\u001b[1;33m/\u001b[0m\u001b[1;36m127.5\u001b[0m\u001b[1;33m,\u001b[0m \u001b[0mmean\u001b[0m\u001b[1;33m=\u001b[0m\u001b[1;33m[\u001b[0m\u001b[1;36m127.5\u001b[0m\u001b[1;33m,\u001b[0m \u001b[1;36m127.5\u001b[0m\u001b[1;33m,\u001b[0m \u001b[1;36m127.5\u001b[0m\u001b[1;33m]\u001b[0m\u001b[1;33m)\u001b[0m\u001b[1;33m\u001b[0m\u001b[1;33m\u001b[0m\u001b[0m\n\u001b[1;32m----> 9\u001b[1;33m     \u001b[0mdetections\u001b[0m \u001b[1;33m=\u001b[0m \u001b[0mnet\u001b[0m\u001b[1;33m.\u001b[0m\u001b[0mforward\u001b[0m\u001b[1;33m(\u001b[0m\u001b[1;33m)\u001b[0m\u001b[1;33m\u001b[0m\u001b[1;33m\u001b[0m\u001b[0m\n\u001b[0m\u001b[0;32m     10\u001b[0m \u001b[1;33m\u001b[0m\u001b[0m\n\u001b[0;32m     11\u001b[0m     \u001b[1;31m# loop over the detections\u001b[0m\u001b[1;33m\u001b[0m\u001b[1;33m\u001b[0m\u001b[1;33m\u001b[0m\u001b[0m\n",
      "\u001b[1;31merror\u001b[0m: OpenCV(4.5.1) C:\\Users\\appveyor\\AppData\\Local\\Temp\\1\\pip-req-build-i1s8y2i1\\opencv\\modules\\dnn\\src\\layers\\batch_norm_layer.cpp:47: error: (-215:Assertion failed) blobs.size() >= 2 in function 'cv::dnn::BatchNormLayerImpl::BatchNormLayerImpl'\n"
     ]
    }
   ],
   "source": [
    "VehicheDetection_UsingMobileNetSSD(video_path)"
   ]
  },
  {
   "cell_type": "code",
   "execution_count": null,
   "metadata": {},
   "outputs": [],
   "source": []
  }
 ],
 "metadata": {
  "kernelspec": {
   "display_name": "Python 3",
   "language": "python",
   "name": "python3"
  },
  "language_info": {
   "codemirror_mode": {
    "name": "ipython",
    "version": 3
   },
   "file_extension": ".py",
   "mimetype": "text/x-python",
   "name": "python",
   "nbconvert_exporter": "python",
   "pygments_lexer": "ipython3",
   "version": "3.8.3"
  },
  "toc": {
   "base_numbering": 1,
   "nav_menu": {},
   "number_sections": true,
   "sideBar": true,
   "skip_h1_title": false,
   "title_cell": "Table of Contents",
   "title_sidebar": "Contents",
   "toc_cell": false,
   "toc_position": {},
   "toc_section_display": true,
   "toc_window_display": false
  }
 },
 "nbformat": 4,
 "nbformat_minor": 4
}
